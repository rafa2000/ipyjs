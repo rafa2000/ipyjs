{
 "metadata": {
  "name": "",
  "signature": "sha256:8eeafab45d3140b079a74b683a70a6a0dcb7cccb8e3a59212669240465748850"
 },
 "nbformat": 3,
 "nbformat_minor": 0,
 "worksheets": [
  {
   "cells": [
    {
     "cell_type": "markdown",
     "metadata": {},
     "source": [
      "# Dynatable + Highcharts.js in IPython"
     ]
    },
    {
     "cell_type": "markdown",
     "metadata": {},
     "source": [
      "Highchars.js use inside IPython examples are useful to explore the Highcharts.js library. Unfortunately I could not find many of those available on the Internet. This is a short offering of how to do it cleanly by usingof `%%html` and `%%javascript` IPython magic."
     ]
    },
    {
     "cell_type": "markdown",
     "metadata": {},
     "source": [
      "* [Highcharts examples](http://www.highcharts.com/demo)\n",
      "* [HighCharts API Reference](http://api.highcharts.com/highcharts)"
     ]
    },
    {
     "cell_type": "markdown",
     "metadata": {},
     "source": [
      "## Prelude to load up Highcharts.js and required modules and styles"
     ]
    },
    {
     "cell_type": "code",
     "collapsed": false,
     "input": [
      "%%html\n",
      "<!-- Highcharts routines -->\n",
      "<script src=\"http://code.highcharts.com/highcharts.js\"></script>\n",
      "<script src=\"http://code.highcharts.com/modules/data.js\"></script>\n",
      "<!-- Additional files for the Highslide popup effect -->\n",
      "<script type=\"text/javascript\" src=\"http://www.highcharts.com/media/com_demo/highslide-full.min.js\"></script>\n",
      "<script type=\"text/javascript\" src=\"http://www.highcharts.com/media/com_demo/highslide.config.js\" charset=\"utf-8\"></script>\n",
      "<link rel=\"stylesheet\" type=\"text/css\" href=\"http://www.highcharts.com/media/com_demo/highslide.css\" />"
     ],
     "language": "python",
     "metadata": {},
     "outputs": [
      {
       "html": [
        "<!-- Highcharts routines -->\n",
        "<script src=\"http://code.highcharts.com/highcharts.js\"></script>\n",
        "<script src=\"http://code.highcharts.com/modules/data.js\"></script>\n",
        "<!-- Additional files for the Highslide popup effect -->\n",
        "<script type=\"text/javascript\" src=\"http://www.highcharts.com/media/com_demo/highslide-full.min.js\"></script>\n",
        "<script type=\"text/javascript\" src=\"http://www.highcharts.com/media/com_demo/highslide.config.js\" charset=\"utf-8\"></script>\n",
        "<link rel=\"stylesheet\" type=\"text/css\" href=\"http://www.highcharts.com/media/com_demo/highslide.css\" />"
       ],
       "metadata": {},
       "output_type": "display_data",
       "text": [
        "<IPython.core.display.HTML at 0x103934dd0>"
       ]
      }
     ],
     "prompt_number": 3
    },
    {
     "cell_type": "markdown",
     "metadata": {},
     "source": [
      "## Create a sized empty `div` to show the generated chart"
     ]
    },
    {
     "cell_type": "code",
     "collapsed": false,
     "input": [
      "%%html\n",
      "<script src=\"http://code.highcharts.com/modules/exporting.js\"></script>\n",
      "<div id=\"container_001\" style=\"min-width: 310px; height: 400px; margin: 0 auto\"></div>"
     ],
     "language": "python",
     "metadata": {},
     "outputs": [
      {
       "html": [
        "<script src=\"http://code.highcharts.com/modules/exporting.js\"></script>\n",
        "<div id=\"container_001\" style=\"min-width: 310px; height: 400px; margin: 0 auto\"></div>"
       ],
       "metadata": {},
       "output_type": "display_data",
       "text": [
        "<IPython.core.display.HTML at 0x1033ee090>"
       ]
      }
     ],
     "prompt_number": 1
    },
    {
     "cell_type": "markdown",
     "metadata": {},
     "source": [
      "## Javascript code to generate a simple chart\n",
      "\n",
      "Press `shift-Enter` inside the next code to execute it."
     ]
    },
    {
     "cell_type": "code",
     "collapsed": false,
     "input": [
      "%%javascript\n",
      "    $('#container_001').highcharts({\n",
      "        title: {\n",
      "            text: 'Monthly Average Temperature',\n",
      "            x: -20 //center\n",
      "        },\n",
      "        subtitle: {\n",
      "            text: 'Source: WorldClimate.com',\n",
      "            x: -20\n",
      "        },\n",
      "        xAxis: {\n",
      "            categories: ['Jan', 'Feb', 'Mar', 'Apr', 'May', 'Jun',\n",
      "                'Jul', 'Aug', 'Sep', 'Oct', 'Nov', 'Dec']\n",
      "        },\n",
      "        yAxis: {\n",
      "            title: {\n",
      "                text: 'Temperature (\u00b0C)'\n",
      "            },\n",
      "            plotLines: [{\n",
      "                value: 0,\n",
      "                width: 1,\n",
      "                color: '#808080'\n",
      "            }]\n",
      "        },\n",
      "        tooltip: {\n",
      "            valueSuffix: '\u00b0C'\n",
      "        },\n",
      "        legend: {\n",
      "            layout: 'vertical',\n",
      "            align: 'right',\n",
      "            verticalAlign: 'middle',\n",
      "            borderWidth: 0\n",
      "        },\n",
      "        series: [{\n",
      "            name: 'Tokyo',\n",
      "            data: [7.0, 6.9, 9.5, 14.5, 18.2, 21.5, 25.2, 26.5, 23.3, 18.3, 13.9, 9.6]\n",
      "        }, {\n",
      "            name: 'New York',\n",
      "            data: [-0.2, 0.8, 5.7, 11.3, 17.0, 22.0, 24.8, 24.1, 20.1, 14.1, 8.6, 2.5]\n",
      "        }, {\n",
      "            name: 'Berlin',\n",
      "            data: [-0.9, 0.6, 3.5, 8.4, 13.5, 17.0, 18.6, 17.9, 14.3, 9.0, 3.9, 1.0]\n",
      "        }, {\n",
      "            name: 'London',\n",
      "            data: [3.9, 4.2, 5.7, 8.5, 11.9, 15.2, 17.0, 16.6, 14.2, 10.3, 6.6, 4.8]\n",
      "        }]\n",
      "    });"
     ],
     "language": "python",
     "metadata": {},
     "outputs": [
      {
       "javascript": [
        "    $('#container_001').highcharts({\n",
        "        title: {\n",
        "            text: 'Monthly Average Temperature',\n",
        "            x: -20 //center\n",
        "        },\n",
        "        subtitle: {\n",
        "            text: 'Source: WorldClimate.com',\n",
        "            x: -20\n",
        "        },\n",
        "        xAxis: {\n",
        "            categories: ['Jan', 'Feb', 'Mar', 'Apr', 'May', 'Jun',\n",
        "                'Jul', 'Aug', 'Sep', 'Oct', 'Nov', 'Dec']\n",
        "        },\n",
        "        yAxis: {\n",
        "            title: {\n",
        "                text: 'Temperature (\u00b0C)'\n",
        "            },\n",
        "            plotLines: [{\n",
        "                value: 0,\n",
        "                width: 1,\n",
        "                color: '#808080'\n",
        "            }]\n",
        "        },\n",
        "        tooltip: {\n",
        "            valueSuffix: '\u00b0C'\n",
        "        },\n",
        "        legend: {\n",
        "            layout: 'vertical',\n",
        "            align: 'right',\n",
        "            verticalAlign: 'middle',\n",
        "            borderWidth: 0\n",
        "        },\n",
        "        series: [{\n",
        "            name: 'Tokyo',\n",
        "            data: [7.0, 6.9, 9.5, 14.5, 18.2, 21.5, 25.2, 26.5, 23.3, 18.3, 13.9, 9.6]\n",
        "        }, {\n",
        "            name: 'New York',\n",
        "            data: [-0.2, 0.8, 5.7, 11.3, 17.0, 22.0, 24.8, 24.1, 20.1, 14.1, 8.6, 2.5]\n",
        "        }, {\n",
        "            name: 'Berlin',\n",
        "            data: [-0.9, 0.6, 3.5, 8.4, 13.5, 17.0, 18.6, 17.9, 14.3, 9.0, 3.9, 1.0]\n",
        "        }, {\n",
        "            name: 'London',\n",
        "            data: [3.9, 4.2, 5.7, 8.5, 11.9, 15.2, 17.0, 16.6, 14.2, 10.3, 6.6, 4.8]\n",
        "        }]\n",
        "    });"
       ],
       "metadata": {},
       "output_type": "display_data",
       "text": [
        "<IPython.core.display.Javascript at 0x102fb2510>"
       ]
      }
     ],
     "prompt_number": 3
    },
    {
     "cell_type": "code",
     "collapsed": false,
     "input": [],
     "language": "python",
     "metadata": {},
     "outputs": []
    }
   ],
   "metadata": {}
  }
 ]
}