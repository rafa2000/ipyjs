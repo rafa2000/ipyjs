{
 "metadata": {
  "name": "",
  "signature": "sha256:c084328f428612905bd9c9b7bde768e1b5709aed216d54d17e4e6f47dc9efd6f"
 },
 "nbformat": 3,
 "nbformat_minor": 0,
 "worksheets": [
  {
   "cells": [
    {
     "cell_type": "markdown",
     "metadata": {},
     "source": [
      "# Dynatable in IPython"
     ]
    },
    {
     "cell_type": "markdown",
     "metadata": {},
     "source": [
      "## Links\n",
      "\n",
      "* [Underscore.js](http://underscorejs.org/)\n",
      "* [Dynatables.js](http://www.dynatable.com/)\n",
      "* [Faker.js](https://github.com/marak/Faker.js/)\n",
      "\n",
      "## CDNs\n",
      "\n",
      "* `Underscore.js` is already loaded by IPython\n",
      "* [Faker.js](https://cdnjs.com/libraries/faker)"
     ]
    },
    {
     "cell_type": "markdown",
     "metadata": {},
     "source": [
      "## Prelude to load libraries and styles"
     ]
    },
    {
     "cell_type": "code",
     "collapsed": false,
     "input": [
      "%%html\n",
      "<!--\n",
      "  Styles to make table headers nicer\n",
      "-->\n",
      "<!-- Remote link to stylesheet -->\n",
      "<link rel=\"stylesheet\" href=\"https://s3.amazonaws.com/dynatable-docs-assets/css/jquery.dynatable.css\" type=\"text/css\" />\n",
      "<style type=\"text/css\">\n",
      "  # Local link to stylesheet\n",
      "  #@import url(\"/static/custom/jquery.dynatable.css\");\n",
      "\n",
      "  .dynatable-head {\n",
      "    background: #202060;\n",
      "  }\n",
      "  .dynatable-head a:focus, .dynatable-head a:hover {\n",
      "    color: #fff;\n",
      "  }\n",
      "</style>"
     ],
     "language": "python",
     "metadata": {},
     "outputs": [
      {
       "html": [
        "<script src=\"/static/custom/js/faker.min.js\"></script>\n",
        "<!--\n",
        "  Styles to make table headers nicer\n",
        "-->\n",
        "<!-- Remote link to stylesheet -->\n",
        "<link rel=\"stylesheet\" href=\"https://s3.amazonaws.com/dynatable-docs-assets/css/jquery.dynatable.css\" type=\"text/css\" />\n",
        "<style type=\"text/css\">\n",
        "  # Local link to stylesheet\n",
        "  #@import url(\"/static/custom/jquery.dynatable.css\");\n",
        "\n",
        "  .dynatable-head {\n",
        "    background: #202060;\n",
        "  }\n",
        "  .dynatable-head a:focus, .dynatable-head a:hover {\n",
        "    color: #fff;\n",
        "  }\n",
        "</style>"
       ],
       "metadata": {},
       "output_type": "display_data",
       "text": [
        "<IPython.core.display.HTML at 0x10a6ae4d0>"
       ]
      }
     ],
     "prompt_number": 5
    },
    {
     "cell_type": "code",
     "collapsed": false,
     "input": [
      "%%javascript\n",
      "// Set libray paths\n",
      "require.config({\n",
      "  paths: {\n",
      "    // Local link (example):\n",
      "    // 'dtab': \"/static/custom/jquery.dynatable\"\n",
      "    // Remote link(s):\n",
      "    'dtab': \"https://s3.amazonaws.com/dynatable-docs-assets/js/jquery.dynatable\",\n",
      "    'fakr': \"https://cdnjs.cloudflare.com/ajax/libs/Faker/0.7.2/MinFaker\"\n",
      "  }\n",
      "});\n",
      "require(['dtab'], function(dynatable) {\n",
      "  console.log('dynatable dynamically loaded...');\n",
      "});\n"
     ],
     "language": "python",
     "metadata": {},
     "outputs": [
      {
       "javascript": [
        "// Set libray paths\n",
        "require.config({\n",
        "  paths: {\n",
        "    // Local link (example):\n",
        "    // 'dtab': \"/static/custom/jquery.dynatable\"\n",
        "    // Remote link(s):\n",
        "    'dtab': \"https://s3.amazonaws.com/dynatable-docs-assets/js/jquery.dynatable\",\n",
        "    'fakr': \"https://cdnjs.cloudflare.com/ajax/libs/Faker/0.7.2/MinFaker\"\n",
        "    //'fakr': \"/static/custom/faker.min\"\n",
        "  }\n",
        "});\n",
        "require(['dtab', 'fakr'], function(dynatable, faker) {\n",
        "  console.log( faker );\n",
        "  console.log( 'Name: ', faker.Name.findName() );\n",
        "});"
       ],
       "metadata": {},
       "output_type": "display_data",
       "text": [
        "<IPython.core.display.Javascript at 0x10aab9f10>"
       ]
      }
     ],
     "prompt_number": 16
    },
    {
     "cell_type": "markdown",
     "metadata": {},
     "source": [
      "## Working with harcoded data"
     ]
    },
    {
     "cell_type": "code",
     "collapsed": false,
     "input": [
      "%%html\n",
      "<br />\n",
      "<table id=\"text-transform-example\" class=\"table table-bordered\">\n",
      "<thead>\n",
      "<tr>\n",
      "<th>Name</th>\n",
      "<th>Hobby</th>\n",
      "<th>Favorite Music</th>\n",
      "</tr>\n",
      "</thead>\n",
      "<tr>\n",
      "  <td>Fred</td>\n",
      "  <td>Roller Skating</td>\n",
      "  <td>Disco</td>\n",
      "</tr>\n",
      "<tr>\n",
      "  <td>Helen</td>\n",
      "  <td>Rock Climbing</td>\n",
      "  <td>Alternative</td>\n",
      "</tr>\n",
      "<tr>\n",
      "  <td>Glen</td>\n",
      "  <td>Travelling</td>\n",
      "  <td>Classical</td>\n",
      "</tr>\n",
      "<tr>\n",
      "  <td>Robin</td>\n",
      "  <td>Working</td>\n",
      "  <td>Rap</td>\n",
      "</tr>\n",
      "</table>\n",
      "<br />"
     ],
     "language": "python",
     "metadata": {},
     "outputs": [
      {
       "html": [
        "<br />\n",
        "<table id=\"text-transform-example\" class=\"table table-bordered\">\n",
        "<thead>\n",
        "<tr>\n",
        "<th>Name</th>\n",
        "<th>Hobby</th>\n",
        "<th>Favorite Music</th>\n",
        "</tr>\n",
        "</thead>\n",
        "<tr>\n",
        "  <td>Fred</td>\n",
        "  <td>Roller Skating</td>\n",
        "  <td>Disco</td>\n",
        "</tr>\n",
        "<tr>\n",
        "  <td>Helen</td>\n",
        "  <td>Rock Climbing</td>\n",
        "  <td>Alternative</td>\n",
        "</tr>\n",
        "<tr>\n",
        "  <td>Glen</td>\n",
        "  <td>Travelling</td>\n",
        "  <td>Classical</td>\n",
        "</tr>\n",
        "<tr>\n",
        "  <td>Robin</td>\n",
        "  <td>Working</td>\n",
        "  <td>Rap</td>\n",
        "</tr>\n",
        "</table>\n",
        "<br />"
       ],
       "metadata": {},
       "output_type": "display_data",
       "text": [
        "<IPython.core.display.HTML at 0x10b6c3bd0>"
       ]
      }
     ],
     "prompt_number": 36
    },
    {
     "cell_type": "code",
     "collapsed": false,
     "input": [
      "%%javascript\n",
      "// Press shift-Enter to convert the displayed table into a Dynatable\n",
      "$('#text-transform-example').dynatable();"
     ],
     "language": "python",
     "metadata": {},
     "outputs": [
      {
       "javascript": [
        "$('#text-transform-example').dynatable();"
       ],
       "metadata": {},
       "output_type": "display_data",
       "text": [
        "<IPython.core.display.Javascript at 0x103bde110>"
       ]
      }
     ],
     "prompt_number": 1
    },
    {
     "cell_type": "markdown",
     "metadata": {},
     "source": [
      "## Working with generated data"
     ]
    },
    {
     "cell_type": "code",
     "collapsed": false,
     "input": [
      "%%html\n",
      "<!-- \n",
      "Start with an empty table\n",
      "-->\n",
      "<table id=\"show-my-json\" class=\"table table-bordered\">\n",
      "  <thead>\n",
      "    <th>Name</th>\n",
      "    <th>Email</th>\n",
      "    <th>Address</th>\n",
      "  </thead>\n",
      "  <tbody>\n",
      "  </tbody>\n",
      "</table>"
     ],
     "language": "python",
     "metadata": {},
     "outputs": [
      {
       "html": [
        "<!-- \n",
        "Start with an empty table\n",
        "-->\n",
        "<table id=\"show-my-json\" class=\"table table-bordered\">\n",
        "  <thead>\n",
        "    <th>Name</th>\n",
        "    <th>Email</th>\n",
        "    <th>Address</th>\n",
        "  </thead>\n",
        "  <tbody>\n",
        "  </tbody>\n",
        "</table>"
       ],
       "metadata": {},
       "output_type": "display_data",
       "text": [
        "<IPython.core.display.HTML at 0x1113984d0>"
       ]
      }
     ],
     "prompt_number": 23
    },
    {
     "cell_type": "code",
     "collapsed": false,
     "input": [
      "%%javascript\n",
      "// Press shift-Enter to populate the previous empty html table and convert it into a Dynatable\n",
      "require.config({\n",
      "  paths: {\n",
      "    // Local link (example):\n",
      "    // 'dtab': \"/static/custom/jquery.dynatable\"\n",
      "    // Remote link(s):\n",
      "    'fakr': \"https://cdnjs.cloudflare.com/ajax/libs/Faker/0.7.2/MinFaker\"\n",
      "  }\n",
      "});\n",
      "require(['fakr'], function(faker) {\n",
      "    \n",
      "    console.log( 'faker dynamically loaded...' );\n",
      "\n",
      "    // We need fake user data, lots of it.\n",
      "    \n",
      "    var COUNT = 500;\n",
      "\n",
      "    var users = [];\n",
      "    var user  = null;\n",
      "\n",
      "    _.each( _.range(COUNT), function() {\n",
      "\n",
      "        user = {\n",
      "          name: faker.Name.findName(),\n",
      "          email: faker.Internet.email(),\n",
      "          address: faker.Address.streetAddress()\n",
      "        };\n",
      "\n",
      "        users.push( user );\n",
      "\n",
      "    });\n",
      "    \n",
      "    console.log( users );\n",
      "    \n",
      "    $('#show-my-json').dynatable({\n",
      "        dataset: {\n",
      "            records: users\n",
      "        }\n",
      "    });\n",
      "        \n",
      "});\n"
     ],
     "language": "python",
     "metadata": {},
     "outputs": [
      {
       "javascript": [
        "// Press shift-Enter to populate the previous empty html table and convert it into a Dynatable\n",
        "require.config({\n",
        "  paths: {\n",
        "    // Local link (example):\n",
        "    // 'dtab': \"/static/custom/jquery.dynatable\"\n",
        "    // Remote link(s):\n",
        "    'fakr': \"https://cdnjs.cloudflare.com/ajax/libs/Faker/0.7.2/MinFaker\"\n",
        "  }\n",
        "});\n",
        "require(['fakr'], function(faker) {\n",
        "    \n",
        "    console.log( 'faker dynamically loaded...' );\n",
        "\n",
        "    // We need fake user data, lots of it.\n",
        "    \n",
        "    var COUNT = 500;\n",
        "\n",
        "    var users = [];\n",
        "    var user  = null;\n",
        "\n",
        "    _.each( _.range(COUNT), function() {\n",
        "\n",
        "        user = {\n",
        "          name: faker.Name.findName(),\n",
        "          email: faker.Internet.email(),\n",
        "          address: faker.Address.streetAddress()\n",
        "        };\n",
        "\n",
        "        users.push( user );\n",
        "\n",
        "    });\n",
        "    \n",
        "    console.log( users );\n",
        "    \n",
        "    $('#show-my-json').dynatable({\n",
        "        dataset: {\n",
        "            records: users\n",
        "        }\n",
        "    });\n",
        "        \n",
        "});"
       ],
       "metadata": {},
       "output_type": "display_data",
       "text": [
        "<IPython.core.display.Javascript at 0x1037a2ed0>"
       ]
      }
     ],
     "prompt_number": 3
    },
    {
     "cell_type": "code",
     "collapsed": false,
     "input": [],
     "language": "python",
     "metadata": {},
     "outputs": []
    }
   ],
   "metadata": {}
  }
 ]
}